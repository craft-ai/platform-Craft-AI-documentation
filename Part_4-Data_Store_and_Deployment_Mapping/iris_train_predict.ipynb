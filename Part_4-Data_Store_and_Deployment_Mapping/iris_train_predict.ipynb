{
 "cells": [
  {
   "attachments": {},
   "cell_type": "markdown",
   "metadata": {},
   "source": [
    "## Import libraries"
   ]
  },
  {
   "cell_type": "code",
   "execution_count": null,
   "metadata": {},
   "outputs": [],
   "source": [
    "from io import BytesIO\n",
    "import os\n",
    "\n",
    "from craft_ai_sdk import CraftAiSdk\n",
    "from craft_ai_sdk.io import Input, Output, DeploymentInputMapping, DeploymentOutputMapping\n",
    "from dotenv import load_dotenv, find_dotenv\n",
    "import numpy as np\n",
    "import pandas as pd\n",
    "import requests\n",
    "from sklearn import datasets\n",
    "\n",
    "# from iris_train import train_iris_inputs, train_iris_outputs\n",
    "# from iris_predict import predict_inputs, predict_outputs"
   ]
  },
  {
   "cell_type": "code",
   "execution_count": null,
   "metadata": {},
   "outputs": [],
   "source": [
    "load_dotenv()"
   ]
  },
  {
   "attachments": {},
   "cell_type": "markdown",
   "metadata": {},
   "source": [
    "## SDK instantiation"
   ]
  },
  {
   "cell_type": "code",
   "execution_count": null,
   "metadata": {},
   "outputs": [],
   "source": [
    "sdk = CraftAiSdk(\n",
    "    environment_url=os.environ.get(\"CRAFT_AI_ENVIRONMENT_URL\"),\n",
    "    sdk_token=os.environ.get(\"CRAFT_AI_ACCESS_TOKEN\"),\n",
    "    verbose_log=True\n",
    ")"
   ]
  },
  {
   "attachments": {},
   "cell_type": "markdown",
   "metadata": {},
   "source": [
    "## Upload dataset to Data Store"
   ]
  },
  {
   "cell_type": "code",
   "execution_count": null,
   "metadata": {},
   "outputs": [],
   "source": [
    "iris = datasets.load_iris(as_frame=True)\n",
    "iris_df = pd.concat([iris.data, iris.target], axis=1)\n",
    "\n",
    "file_buffer = BytesIO(iris_df.to_parquet())\n",
    "sdk.upload_data_store_object(filepath_or_buffer=file_buffer, object_path_in_datastore=\"get_started/dataset/iris.parquet\")"
   ]
  },
  {
   "cell_type": "code",
   "execution_count": null,
   "metadata": {},
   "outputs": [],
   "source": [
    "sdk.list_data_store_objects()"
   ]
  },
  {
   "attachments": {},
   "cell_type": "markdown",
   "metadata": {},
   "source": [
    "## Create Train Step"
   ]
  },
  {
   "attachments": {},
   "cell_type": "markdown",
   "metadata": {},
   "source": [
    "### Declare inputs and outputs"
   ]
  },
  {
   "cell_type": "code",
   "execution_count": null,
   "metadata": {},
   "outputs": [],
   "source": [
    "train_val_prop_input = Input(name=\"train_val_prop\", data_type=\"number\")\n",
    "model_parameters_input = Input(name=\"model_parameters\", data_type=\"json\")\n",
    "dataset_input = Input(name=\"dataset_path\", data_type=\"string\")\n",
    "model_output_path = Input(name=\"model_output_path\", data_type=\"string\")\n",
    "train_iris_inputs = [\n",
    "    train_val_prop_input,\n",
    "    model_parameters_input,\n",
    "    dataset_input,\n",
    "    model_output_path,\n",
    "]\n",
    "\n",
    "metrics_file_output = Output(name=\"metrics\", data_type=\"json\")\n",
    "train_iris_outputs = [metrics_file_output]"
   ]
  },
  {
   "attachments": {},
   "cell_type": "markdown",
   "metadata": {},
   "source": [
    "### Create the step and pipeline"
   ]
  },
  {
   "cell_type": "code",
   "execution_count": null,
   "metadata": {},
   "outputs": [],
   "source": [
    "step = sdk.create_step(\n",
    "    # The path must be relative to the root of the repo\n",
    "    function_path=\"src/part-4-iris_train.py\",\n",
    "    function_name=\"train\",\n",
    "    inputs=train_iris_inputs,\n",
    "    outputs=train_iris_outputs,\n",
    "    step_name=\"part-4-iris-train-step\",\n",
    ")"
   ]
  },
  {
   "cell_type": "code",
   "execution_count": null,
   "metadata": {},
   "outputs": [],
   "source": [
    "pipeline = sdk.create_pipeline(\n",
    "    pipeline_name=\"part-4-iris-train-pipeline\",\n",
    "    step_name=\"part-4-iris-train-step\",\n",
    ")"
   ]
  },
  {
   "cell_type": "code",
   "execution_count": null,
   "metadata": {},
   "outputs": [],
   "source": [
    "output_mappings = [\n",
    "    DeploymentOutputMapping(\n",
    "        step_output_name='metrics',\n",
    "        endpoint_output_name='metrics')\n",
    "]\n",
    "\n",
    "endpoint = sdk.create_endpoint(\n",
    "    pipeline_name=\"part-4-iris-train-pipeline\",\n",
    "    endpoint_name=\"part-4-iris-train-endpoint\",\n",
    "    outputs_mapping=output_mappings\n",
    ")\n",
    "\n",
    "print(endpoint)"
   ]
  },
  {
   "cell_type": "code",
   "execution_count": null,
   "metadata": {},
   "outputs": [],
   "source": [
    "endpoint_url = sdk.base_environment_url  + \"/endpoints/\" + endpoint[\"name\"]\n",
    "inputs = {\n",
    "\t\t\"dataset_path\": \"get_started/dataset/iris.parquet\",\n",
    "    \"train_val_prop\": 0.8,\n",
    "    \"model_parameters\": {\"n_neighbors\": 10},\n",
    "    \"model_output_path\": \"get_started/models/test_model.joblib\"\n",
    "}\n",
    "endpoint_token = endpoint[\"endpoint_token\"]\n",
    "\n",
    "request = requests.post(endpoint_url, headers={\"Authorization\": f\"EndpointToken {endpoint_token}\"}, json=inputs)\n",
    "request.json()"
   ]
  },
  {
   "cell_type": "code",
   "execution_count": null,
   "metadata": {},
   "outputs": [],
   "source": [
    "endpoint_url = sdk.base_environment_url  + \"/endpoints/\" + endpoint[\"name\"]\n",
    "inputs = {\n",
    "    \"dataset_path\": \"get_started/dataset/iris.parquet\",\n",
    "    \"train_val_prop\": 0.8,\n",
    "    \"model_parameters\": {\"n_neighbors\": 1},\n",
    "    \"model_output_path\": \"get_started/models/test_model_2.joblib\"\n",
    "}\n",
    "endpoint_token = endpoint[\"endpoint_token\"]\n",
    "\n",
    "request = requests.post(endpoint_url, headers={\"Authorization\": f\"EndpointToken {endpoint_token}\"}, json=inputs)\n",
    "request.json()"
   ]
  },
  {
   "cell_type": "code",
   "execution_count": null,
   "metadata": {},
   "outputs": [],
   "source": [
    "sdk.list_data_store_objects()"
   ]
  },
  {
   "cell_type": "code",
   "execution_count": null,
   "metadata": {},
   "outputs": [],
   "source": [
    "model_path_input = Input(name=\"model_path\", data_type=\"string\")\n",
    "input_data_input = Input(name=\"input_data\", data_type=\"json\")\n",
    "predict_inputs = [\n",
    "    model_path_input,\n",
    "    input_data_input,\n",
    "]\n",
    "\n",
    "predictions_output = Output(name=\"predictions\", data_type=\"json\")\n",
    "predict_outputs = [predictions_output]"
   ]
  },
  {
   "cell_type": "code",
   "execution_count": null,
   "metadata": {},
   "outputs": [],
   "source": [
    "step = sdk.create_step(\n",
    "    step_name=\"part-4-iris-predict-step\",\n",
    "    function_path=\"src/part-4-iris_predict.py\",\n",
    "    function_name=\"predict\",\n",
    "    inputs=predict_inputs, \n",
    "    outputs=predict_outputs,\n",
    "    container_config={\n",
    "        \"requirements_path\": \"requirements.txt\"\n",
    "    },\n",
    ")"
   ]
  },
  {
   "cell_type": "code",
   "execution_count": null,
   "metadata": {},
   "outputs": [],
   "source": [
    "pipeline = sdk.create_pipeline(\n",
    "    step_name=\"part-4-iris-predict-step\",\n",
    "    pipeline_name=\"part-4-iris-predict-pipeline\"\n",
    ")"
   ]
  },
  {
   "cell_type": "code",
   "execution_count": null,
   "metadata": {},
   "outputs": [],
   "source": [
    "input_mappings = [\n",
    "    DeploymentInputMapping(\n",
    "        step_input_name=\"model_path\",\n",
    "        constant_value=\"get_started/models/test_model.joblib\")\n",
    "]\n",
    "\n",
    "output_mappings = [\n",
    "    DeploymentOutputMapping(\n",
    "        step_output_name=\"predictions\",\n",
    "        endpoint_output_name=\"iris_species\")\n",
    "]"
   ]
  },
  {
   "cell_type": "code",
   "execution_count": null,
   "metadata": {},
   "outputs": [],
   "source": [
    "endpoint = sdk.create_endpoint(\n",
    "    pipeline_name=\"part-4-iris-predict-pipeline\",\n",
    "    endpoint_name=\"part-4-iris-predict-endpoint\",\n",
    "    inputs_mapping=input_mappings,\n",
    "    outputs_mapping=output_mappings\n",
    ")"
   ]
  },
  {
   "cell_type": "code",
   "execution_count": null,
   "metadata": {},
   "outputs": [],
   "source": [
    "np.random.seed(0)\n",
    "indices = np.random.permutation(150)\n",
    "iris_X, iris_y = datasets.load_iris(return_X_y=True, as_frame=True)\n",
    "iris_X_test = iris_X.loc[indices[90:120],:]\n",
    "input_json_data = iris_X_test.to_dict(orient=\"index\")"
   ]
  },
  {
   "cell_type": "code",
   "execution_count": null,
   "metadata": {},
   "outputs": [],
   "source": [
    "endpoint_url = sdk.base_environment_url  + \"/endpoints/\" + endpoint[\"name\"]\n",
    "\n",
    "\n",
    "inputs = {\"input_data\": input_json_data}\n",
    "endpoint_token = endpoint[\"endpoint_token\"]\n",
    "\n",
    "request = requests.post(endpoint_url, headers={\"Authorization\": f\"EndpointToken {endpoint_token}\"}, json=inputs)\n",
    "request.json()[\"results\"][\"iris_species\"]"
   ]
  },
  {
   "cell_type": "code",
   "execution_count": null,
   "metadata": {},
   "outputs": [],
   "source": []
  }
 ],
 "metadata": {
  "kernelspec": {
   "display_name": "craft_mvp",
   "language": "python",
   "name": "python3"
  },
  "language_info": {
   "codemirror_mode": {
    "name": "ipython",
    "version": 3
   },
   "file_extension": ".py",
   "mimetype": "text/x-python",
   "name": "python",
   "nbconvert_exporter": "python",
   "pygments_lexer": "ipython3",
   "version": "3.9.12"
  },
  "orig_nbformat": 4,
  "vscode": {
   "interpreter": {
    "hash": "97636e59d7ddcb1a4e9caee669fa4600a7055704bfefbeca429f69940d144563"
   }
  }
 },
 "nbformat": 4,
 "nbformat_minor": 2
}
