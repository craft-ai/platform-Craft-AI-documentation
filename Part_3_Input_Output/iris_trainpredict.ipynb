{
    "cells": [
        {
            "attachments": {},
            "cell_type": "markdown",
            "metadata": {},
            "source": [
                "# Part 3: Deploy a simple ML model with an input and an output "
            ]
        },
        {
            "attachments": {},
            "cell_type": "markdown",
            "metadata": {},
            "source": [
                "## Import libraries"
            ]
        },
        {
            "cell_type": "code",
            "execution_count": null,
            "metadata": {},
            "outputs": [],
            "source": [
                "import craft_ai_sdk\n",
                "from craft_ai_sdk.io import Input, Output\n",
                "from craft_ai_sdk.io import DeploymentOutputMapping\n",
                "\n",
                "import dotenv\n",
                "import os\n",
                "import requests"
            ]
        },
        {
            "attachments": {},
            "cell_type": "markdown",
            "metadata": {},
            "source": [
                "## Load environnement variables"
            ]
        },
        {
            "cell_type": "code",
            "execution_count": null,
            "metadata": {},
            "outputs": [],
            "source": [
                "dotenv.load_dotenv()\n",
                "\n",
                "SDK_TOKEN = os.environ['CRAFT_AI_ACCESS_TOKEN']\n",
                "ENVIRONMENT_URL = os.environ['CRAFT_AI_ENVIRONMENT_URL']\n"
            ]
        },
        {
            "attachments": {},
            "cell_type": "markdown",
            "metadata": {},
            "source": [
                "## SDK instantiation"
            ]
        },
        {
            "cell_type": "code",
            "execution_count": null,
            "metadata": {},
            "outputs": [],
            "source": [
                "sdk = craft_ai_sdk.CraftAiSdk(sdk_token=SDK_TOKEN, environment_url=ENVIRONMENT_URL)"
            ]
        },
        {
            "attachments": {},
            "cell_type": "markdown",
            "metadata": {},
            "source": [
                "## Step creation with the SDK"
            ]
        },
        {
            "attachments": {},
            "cell_type": "markdown",
            "metadata": {},
            "source": [
                "### Declare Input and Output of our new step"
            ]
        },
        {
            "attachments": {},
            "cell_type": "markdown",
            "metadata": {},
            "source": [
                "#### Input"
            ]
        },
        {
            "cell_type": "code",
            "execution_count": null,
            "metadata": {},
            "outputs": [],
            "source": [
                "prediction_input = Input(\n",
                "    name=\"input_data\", \n",
                "    data_type=\"json\"\n",
                ")"
            ]
        },
        {
            "attachments": {},
            "cell_type": "markdown",
            "metadata": {},
            "source": [
                "#### Output"
            ]
        },
        {
            "cell_type": "code",
            "execution_count": null,
            "metadata": {},
            "outputs": [],
            "source": [
                "prediction_output = Output(\n",
                "    name=\"predictions\",\n",
                "    data_type=\"json\"\n",
                ")"
            ]
        },
        {
            "attachments": {},
            "cell_type": "markdown",
            "metadata": {},
            "source": [
                "### Create a step"
            ]
        },
        {
            "cell_type": "code",
            "execution_count": null,
            "metadata": {},
            "outputs": [],
            "source": [
                "sdk.create_step(\n",
                "    step_name=\"part-3-irisio-step\",\n",
                "    function_path=\"src/part-3-iris_ModelIO.py\",\n",
                "    function_name=\"TrainPredictIris\", \n",
                "\tdescription=\"This function creates a classifier model for iris and makes prediction on test data set\",\n",
                "\tinputs=[prediction_input],\n",
                "    outputs=[prediction_output],\n",
                ")"
            ]
        },
        {
            "attachments": {},
            "cell_type": "markdown",
            "metadata": {},
            "source": [
                "### List the step"
            ]
        },
        {
            "cell_type": "code",
            "execution_count": null,
            "metadata": {},
            "outputs": [],
            "source": [
                "step_list = sdk.list_steps()\n",
                "step_list"
            ]
        },
        {
            "attachments": {},
            "cell_type": "markdown",
            "metadata": {},
            "source": [
                "### Get step information"
            ]
        },
        {
            "cell_type": "code",
            "execution_count": null,
            "metadata": {},
            "outputs": [],
            "source": [
                "step_info = sdk.get_step(\"part-3-irisio-step\")\n",
                "step_info"
            ]
        },
        {
            "attachments": {},
            "cell_type": "markdown",
            "metadata": {},
            "source": [
                "## Create a pipeline"
            ]
        },
        {
            "attachments": {},
            "cell_type": "markdown",
            "metadata": {},
            "source": [
                "### Create a pipeline"
            ]
        },
        {
            "cell_type": "code",
            "execution_count": null,
            "metadata": {},
            "outputs": [],
            "source": [
                "sdk.create_pipeline(\n",
                "    pipeline_name=\"part-3-irisio-pipeline\",\n",
                "\t\tstep_name=\"part-3-irisio-step\",\n",
                ")"
            ]
        },
        {
            "attachments": {},
            "cell_type": "markdown",
            "metadata": {},
            "source": [
                "## Deploy your Pipeline in an Endpoint"
            ]
        },
        {
            "cell_type": "code",
            "execution_count": null,
            "metadata": {},
            "outputs": [],
            "source": [
                "output_mapping = DeploymentOutputMapping(\n",
                "    step_output_name='predictions', \n",
                "    endpoint_output_name='iris_species'\n",
                ")"
            ]
        },
        {
            "attachments": {},
            "cell_type": "markdown",
            "metadata": {},
            "source": [
                "### Create endpoint"
            ]
        },
        {
            "cell_type": "code",
            "execution_count": null,
            "metadata": {},
            "outputs": [],
            "source": [
                "endpoint = sdk.create_endpoint(\n",
                "\tpipeline_name=\"part-3-irisio-pipeline\",\n",
                "\tendpoint_name=\"part-3-irisio-endpoint\",\n",
                "    outputs_mapping=[output_mapping]\n",
                ")"
            ]
        },
        {
            "cell_type": "code",
            "execution_count": null,
            "metadata": {},
            "outputs": [],
            "source": [
                "endpoint"
            ]
        },
        {
            "attachments": {},
            "cell_type": "markdown",
            "metadata": {},
            "source": [
                "### Endpoint call"
            ]
        },
        {
            "attachments": {},
            "cell_type": "markdown",
            "metadata": {},
            "source": [
                "#### Prepare input data"
            ]
        },
        {
            "cell_type": "code",
            "execution_count": null,
            "metadata": {},
            "outputs": [],
            "source": [
                "# prepare input data for which we want predictions\n",
                "import numpy as np\n",
                "import pandas as pd \n",
                "from sklearn import datasets\n",
                "\n",
                "np.random.seed(0)\n",
                "indices = np.random.permutation(150)\n",
                "iris_X, iris_y = datasets.load_iris(return_X_y=True, as_frame=True)\n",
                "iris_X_test = iris_X.loc[indices[90:120],:]\n",
                "\n",
                "# convert our test dataframe into a dictionary as required\n",
                "test_dict_data = iris_X_test.to_dict(orient=\"index\")"
            ]
        },
        {
            "cell_type": "code",
            "execution_count": null,
            "metadata": {},
            "outputs": [],
            "source": [
                "test_dict_data"
            ]
        },
        {
            "cell_type": "code",
            "execution_count": null,
            "metadata": {},
            "outputs": [],
            "source": [
                "test_data = {\n",
                "\t\"input_data\": test_dict_data\n",
                "}"
            ]
        },
        {
            "attachments": {},
            "cell_type": "markdown",
            "metadata": {},
            "source": [
                "#### Call our endpoint"
            ]
        },
        {
            "cell_type": "code",
            "execution_count": null,
            "metadata": {},
            "outputs": [],
            "source": [
                "endpoint_URL = f\"{os.environ.get('CRAFT_AI_ENVIRONMENT_URL')}/endpoints/\" + endpoint[\"name\"]\n",
                "headers = {\"Authorization\": \"EndpointToken \" + endpoint[\"endpoint_token\"]}\n",
                "request = requests.post(endpoint_URL, headers=headers, json=test_data)\n",
                "\n",
                "request.status_code"
            ]
        },
        {
            "attachments": {},
            "cell_type": "markdown",
            "metadata": {},
            "source": [
                "## Execution verification"
            ]
        },
        {
            "attachments": {},
            "cell_type": "markdown",
            "metadata": {},
            "source": [
                "#### Display output"
            ]
        },
        {
            "cell_type": "code",
            "execution_count": null,
            "metadata": {},
            "outputs": [],
            "source": [
                "request.json()['results']"
            ]
        },
        {
            "attachments": {},
            "cell_type": "markdown",
            "metadata": {},
            "source": [
                "### Display logs"
            ]
        },
        {
            "cell_type": "code",
            "execution_count": null,
            "metadata": {},
            "outputs": [],
            "source": [
                "pipeline_executions = sdk.list_pipeline_executions(pipeline_name=\"part-3-irisio-pipeline\")"
            ]
        },
        {
            "cell_type": "code",
            "execution_count": null,
            "metadata": {},
            "outputs": [],
            "source": [
                "logs = sdk.get_pipeline_execution_logs(pipeline_name=\"part-3-irisio-pipeline\", \n",
                "\texecution_id=pipeline_executions[-1]['execution_id'])\n",
                "\n",
                "print('\\n'.join(log[\"message\"] for log in logs))"
            ]
        }
    ],
    "metadata": {
        "kernelspec": {
            "display_name": "craft_mvp",
            "language": "python",
            "name": "python3"
        },
        "language_info": {
            "codemirror_mode": {
                "name": "ipython",
                "version": 3
            },
            "file_extension": ".py",
            "mimetype": "text/x-python",
            "name": "python",
            "nbconvert_exporter": "python",
            "pygments_lexer": "ipython3",
            "version": "3.9.12"
        },
        "orig_nbformat": 4,
        "vscode": {
            "interpreter": {
                "hash": "97636e59d7ddcb1a4e9caee669fa4600a7055704bfefbeca429f69940d144563"
            }
        }
    },
    "nbformat": 4,
    "nbformat_minor": 2
}
