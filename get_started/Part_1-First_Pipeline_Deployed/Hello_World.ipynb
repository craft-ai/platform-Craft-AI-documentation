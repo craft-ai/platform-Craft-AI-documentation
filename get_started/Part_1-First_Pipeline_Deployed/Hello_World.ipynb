{
 "cells": [
  {
   "attachments": {},
   "cell_type": "markdown",
   "metadata": {},
   "source": [
    "# Part 1: Execute a simple code - First pipeline execution"
   ]
  },
  {
   "attachments": {},
   "cell_type": "markdown",
   "metadata": {},
   "source": [
    "The main goal of the Craft AI platform is to allow to deploy easily your machine learning pipelines. In this first part, you will learn how you can deploy some simple code to the platform in a few “stages”."
   ]
  },
  {
   "attachments": {},
   "cell_type": "markdown",
   "metadata": {},
   "source": [
    "<strong>In this part we will use the platform to build a simple “Hello world” application by showing you how to deploy a basic Python code from a local folder that prints “Hello world” and displays the number of days until next year.</strong>"
   ]
  },
  {
   "attachments": {},
   "cell_type": "markdown",
   "metadata": {},
   "source": [
    "## Import libraries"
   ]
  },
  {
   "cell_type": "code",
   "execution_count": null,
   "metadata": {},
   "outputs": [],
   "source": [
    "import craft_ai_sdk\n",
    "import dotenv\n",
    "import os\n",
    "\n",
    "dotenv.load_dotenv()"
   ]
  },
  {
   "attachments": {},
   "cell_type": "markdown",
   "metadata": {},
   "source": [
    "## Load environnement variables"
   ]
  },
  {
   "attachments": {},
   "cell_type": "markdown",
   "metadata": {},
   "source": [
    "Make sure you have got the following variables from the Craft AI platform:\n",
    "\n",
    "- `CRAFT_AI_SDK_TOKEN`: Your sdk token  \n",
    "- `CRAFT_AI_ENVIRONMENT_URL`: The environment url"
   ]
  },
  {
   "cell_type": "code",
   "execution_count": null,
   "metadata": {},
   "outputs": [],
   "source": [
    "CRAFT_AI_SDK_TOKEN = os.environ.get(\"CRAFT_AI_SDK_TOKEN\")\n",
    "CRAFT_AI_ENVIRONMENT_URL = os.environ.get(\"CRAFT_AI_ENVIRONMENT_URL\")"
   ]
  },
  {
   "attachments": {},
   "cell_type": "markdown",
   "metadata": {},
   "source": [
    "## SDK instantiation"
   ]
  },
  {
   "cell_type": "code",
   "execution_count": null,
   "metadata": {},
   "outputs": [],
   "source": [
    "sdk = craft_ai_sdk.CraftAiSdk(\n",
    "    sdk_token=CRAFT_AI_SDK_TOKEN, environment_url=CRAFT_AI_ENVIRONMENT_URL\n",
    ")"
   ]
  },
  {
   "attachments": {},
   "cell_type": "markdown",
   "metadata": {},
   "source": [
    "## Step creation with the SDK"
   ]
  },
  {
   "attachments": {},
   "cell_type": "markdown",
   "metadata": {},
   "source": [
    "The first thing to do to build an application on the Craft AI platform is to <strong>create a Step.</strong>"
   ]
  },
  {
   "attachments": {},
   "cell_type": "markdown",
   "metadata": {},
   "source": [
    "A <strong>step</strong> is the equivalent of a Python function in the Craft AI platform. Like a regular function, a step is defined by the inputs it ingests, the code it runs, and the outputs it returns. For this “hello world” use case, we are focusing on the code part so we will ignore inputs and outputs for now.\n",
    "\n",
    "A step is created from any function located in the source code, using the `create_step()` method of the sdk object.\n",
    "\n",
    "In our case, if we suppose that our helloworld function is located in `src/part-1-helloWorld.py`, we can create our first step on the platform as below."
   ]
  },
  {
   "attachments": {},
   "cell_type": "markdown",
   "metadata": {},
   "source": [
    "### Create a step\n",
    "\n",
    "The main arguments of the create_step function are the following:\n",
    "\n",
    "- The `step_name` is the name of the step that will be created. This is the identifier you will use later to refer to this step.\n",
    "\n",
    "- The `container_config` is the configuration of the container that will be used to execute the function. One of its parameters is the `local_folder` parameter that is the **absolute** path to the folder we want to retrieve, containing the function to execute. We will explain in a later part how to do differently, but we focus for now on deploying steps from a local code. \n",
    "\n",
    "- The `function_path` argument is the path of the Python module containing the function that you want to execute for this step. This path must be relative to the `local_folder` specified in the container_config.\n",
    "\n",
    "- The `function_name` argument is the name of the function that you want to execute for this step.\n"
   ]
  },
  {
   "cell_type": "code",
   "execution_count": null,
   "metadata": {},
   "outputs": [],
   "source": [
    "sdk.create_step(\n",
    "    step_name=\"part-1-hello-world\",\n",
    "    function_path=\"src/part-1-helloWorld.py\",\n",
    "    function_name=\"helloWorld\",\n",
    "    container_config={\n",
    "        \"local_folder\": \"../../get_started\",\n",
    "    }\n",
    ")"
   ]
  },
  {
   "attachments": {},
   "cell_type": "markdown",
   "metadata": {},
   "source": [
    "### List the step\n",
    "\n",
    "You can view the list of steps that you created in the platform with the `list_steps()` function of the SDK.\n",
    "\n",
    "You can see your step and its status of creation (Pending or Ready).\n"
   ]
  },
  {
   "cell_type": "code",
   "execution_count": null,
   "metadata": {},
   "outputs": [],
   "source": [
    "step_list = sdk.list_steps()\n",
    "step_list"
   ]
  },
  {
   "attachments": {},
   "cell_type": "markdown",
   "metadata": {},
   "source": [
    "### Get step information\n",
    "\n",
    "You can also get the information of a specific step with the `get_step()` function of the SDK.\n"
   ]
  },
  {
   "cell_type": "code",
   "execution_count": null,
   "metadata": {},
   "outputs": [],
   "source": [
    "step_info = sdk.get_step(\"part-1-hello-world\")\n",
    "print(step_info)"
   ]
  },
  {
   "attachments": {},
   "cell_type": "markdown",
   "metadata": {},
   "source": [
    "## Create a pipeline"
   ]
  },
  {
   "attachments": {},
   "cell_type": "markdown",
   "metadata": {},
   "source": [
    "\n",
    "The step `part-1-hello-world` containing our `helloWorld` code is now created in the platform and ready to be used in a <strong> pipeline</strong>  that will then be executed in the platform. In the future, it will be possible to assemble multiple steps into a complex machine learning pipeline. For now, the platform only allows single-step pipelines.\n",
    "\n",
    "To <strong> create a pipeline</strong>  consisting of the previous step, you must use the `create_pipeline()` function of the SDK."
   ]
  },
  {
   "attachments": {},
   "cell_type": "markdown",
   "metadata": {},
   "source": [
    "This function has two arguments:\n",
    "\n",
    "- The `pipeline_name` is the name of the pipeline you have just created. As for the step_name you will then refer to the pipeline using this name\n",
    "\n",
    "- The `step_name` is the name of the step used in the pipeline.\n"
   ]
  },
  {
   "cell_type": "code",
   "execution_count": null,
   "metadata": {},
   "outputs": [],
   "source": [
    "sdk.create_pipeline(\n",
    "    pipeline_name=\"part-1-hello-world\",\n",
    "    step_name=\"part-1-hello-world\",\n",
    ")"
   ]
  },
  {
   "attachments": {},
   "cell_type": "markdown",
   "metadata": {},
   "source": [
    "Now that our pipeline is created (around our step), we want to execute it. To do this, we will run the pipeline with the sdk function, `run_pipeline()`, and it will execute the code contained in the step."
   ]
  },
  {
   "attachments": {},
   "cell_type": "markdown",
   "metadata": {},
   "source": [
    "## Execute your pipeline (RUN)\n",
    "\n",
    "You can <strong> execute</strong>  a pipeline on the platform directly with the `run_pipeline()` function.\n",
    "\n",
    "In this case we only have to fill one argument:\n",
    "\n",
    "- The name of the existing pipeline to execute (`pipeline_name`)\n"
   ]
  },
  {
   "cell_type": "code",
   "execution_count": null,
   "metadata": {},
   "outputs": [],
   "source": [
    "sdk.run_pipeline(pipeline_name=\"part-1-hello-world\")"
   ]
  },
  {
   "attachments": {},
   "cell_type": "markdown",
   "metadata": {},
   "source": [
    "## Execution verification"
   ]
  },
  {
   "attachments": {},
   "cell_type": "markdown",
   "metadata": {},
   "source": [
    "You can go directly on the platform to check the <strong> status and logs</strong>  of your execution : \n",
    "\n",
    "- Connect to https://mlops-platform.craft.ai\n",
    "\n",
    "- Click on your project\n",
    "\n",
    "- Go to the Executions Tab, select your environnement, and your pipeline.\n",
    "\n",
    "Or, you can check them with the sdk function `get_pipeline_execution_logs()`."
   ]
  },
  {
   "cell_type": "code",
   "execution_count": null,
   "metadata": {},
   "outputs": [],
   "source": [
    "pipeline_executions = sdk.list_pipeline_executions(pipeline_name=\"part-1-hello-world\")"
   ]
  },
  {
   "cell_type": "code",
   "execution_count": null,
   "metadata": {},
   "outputs": [],
   "source": [
    "logs = sdk.get_pipeline_execution_logs(\n",
    "    pipeline_name=\"part-1-hello-world\",\n",
    "    execution_id=pipeline_executions[-1][\"execution_id\"],\n",
    ")\n",
    "\n",
    "print(\"\\n\".join(log[\"message\"] for log in logs))"
   ]
  }
 ],
 "metadata": {
  "kernelspec": {
   "display_name": "Python 3",
   "language": "python",
   "name": "python3"
  },
  "language_info": {
   "codemirror_mode": {
    "name": "ipython",
    "version": 3
   },
   "file_extension": ".py",
   "mimetype": "text/x-python",
   "name": "python",
   "nbconvert_exporter": "python",
   "pygments_lexer": "ipython3",
   "version": "3.8.12"
  },
  "orig_nbformat": 4,
  "vscode": {
   "interpreter": {
    "hash": "232d0a11f8df5ff3a2ba2b13b61b4e3f653bd588275dad9272f8bdcbc6001c87"
   }
  }
 },
 "nbformat": 4,
 "nbformat_minor": 2
}
